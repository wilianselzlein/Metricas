{
 "cells": [
  {
   "cell_type": "markdown",
   "metadata": {},
   "source": [
    "# Análise do Nível de Manutenibilidade\n",
    "<br>\n",
    "#### Objetivo:<br>\n",
    "É importante acompanhar se as issues de correção estão levando mais ou menos tempo, e se o software está com os números de defeitos aumentando ou diminuíndo, ou seja, se a sua modificabilidade está melhorando. Uma boa avaliação desses números é conseguir ter correções mais rápidas e sem efeitos colaterais.\n",
    "Auxiliar futuras refatorações: Quais devem ser as principais para eliminar problemas;<br>\n",
    "A partir de uma coleção de métricas coletadas automaticamente e de uma forma objetiva de interpretar seus valores, engenheiros de software podem monitorar características especícas do seu código assim como implementações problemáticas para tomar melhores decisões ao (re)escrevê-las.<br>\n",
    "<br>\n",
    "#### Vantagens:<br>\n",
    "-- Possibilita a rápida identificação de falhas e permite ações de correções na mesma velocidade;<br>\n",
    "-- O desenvolvimento e a aplicação de novos recursos fica mais fácil e rápido;<br>\n",
    "-- Há um melhor controle de acesso autorizado para as revisões;<br>\n",
    "-- Conflitos de mudanças são resolvidos com maior agilidade;<br>\n",
    "-- Erros e códigos de risco são encontrados mais facilmente;<br>\n",
    "-- Programadores passam a ter uma visão analítica objetiva, que possibilita e ajuda no reconhecimento de onde os mesmo foram ou não precisos e desatentos;<br>\n",
    "-- ** Com a exclusão de determinadas classes de defeitos, a equipe se encontra concentrada em outros tipos de eficiência do projeto. **<br>\n",
    "<br>\n",
    "Não estou analizando:<br>\n",
    "-- Complexidade Ciclomática (desvios uma função possui: cada comando if, switch, for, while);<br>\n",
    "-- Metodos com muitos parâmetros;<br>\n",
    "-- Outras métricas (Sonar);<br>\n",
    "<br>\n",
    "#### Próximos trabalhos:<br>\n",
    "-- Checkins com uma unit;<br>\n",
    "-- Cruzar dados do RTC;<br>\n",
    "<br>\n"
   ]
  },
  {
   "cell_type": "code",
   "execution_count": null,
   "metadata": {
    "collapsed": true
   },
   "outputs": [],
   "source": [
    "import pandas as pd\n",
    "import numpy as np\n",
    "import matplotlib.pyplot as plt\n",
    "%matplotlib inline\n",
    "\n",
    "arquivos = ['release_changeset_20171.csv', 'HorasPorSalt2017.csv', 'TFS 2017 pas.csv', 'TFS 2017 dfm.csv']\n",
    "#arquivos = ['release_changeset_2016.csv', 'HorasPorSalt2016.csv', 'TFS 2016 pas.csv', 'TFS 2016 dfm.csv']\n",
    "#arquivos = ['release_changeset_2013-2015', 'HorasPorSalt2015.csv', 'TFS 2015 pas.csv', 'TFS 2015 dfm.csv']"
   ]
  },
  {
   "cell_type": "code",
   "execution_count": null,
   "metadata": {},
   "outputs": [],
   "source": [
    "dfLinhas = pd.DataFrame({'Metodo' : ['uspjPendenciaPrazo.ConsultaPendencia', 'uspjDBase.ConsultaAtualizacaoInformacoes', 'uspjMensagem.InicializaMensagensSPJ', 'uspjMensagem2.InicializaMensagensSPJ2', 'uspjPendenciaPrazo.AtualizePendencia', 'uspjDocEmitidoServ.OnDepoisSalvarDocumento', 'uspjCDA.OrganizarDadosGeracao', 'uspjProcessoServ.ConsultaProcessoPeloWS', 'uspjPedidoProcurServ.AtualizaPedidoProcurador', 'uspjConsPendenciaPrazoRPdevBasica.PassaParametro', 'uspjCadProcessoMovBase.ccCadastroSpAntesExecutar', 'uspjConsCDA.PreenchaParametrosConsulta', 'uspjAtividadeIndependente.CriarCamposOutrasOperacoes', 'uspjIntimacaoEletServ.ProcessaIntimacao', 'uspjProcessoServ.VerificaConsistenciaProcesso', 'uspjIntimacaoEletServ.ImportarDadosRecebidosWS', 'uspjProcessoMvServ.IncluaMovimentacao'],\n",
    "                       'Linhas' : [2400, 1100, 1000, 1000, 1000, 900, 800, 800, 700, 700, 650, 580, 550, 540, 500, 500, 500]})\n",
    "dfLinhas.set_index('Metodo')\n",
    "print (dfLinhas)\n",
    "\n",
    "plLinhas = dfLinhas.set_index('Metodo').plot(kind='barh')\n",
    "plt.title(\"Número de linhas por método\")\n",
    "plt.show()\n",
    "\n",
    "print (\"*** Algumas fontes a média de linhas por metodo é considerado ruim acima de 13.\");\n"
   ]
  },
  {
   "cell_type": "code",
   "execution_count": null,
   "metadata": {},
   "outputs": [],
   "source": [
    "dfHeadlistPas = pd.read_csv(arquivos[2], encoding='ISO-8859-1', delimiter=',')\n",
    "#dfHeadlistPas = dfHeadlistPas.drop('cfi', axis=1)\n",
    "dfHeadlistPas = dfHeadlistPas.query('quantum > 15')\n",
    "dfHeadlistPas = dfHeadlistPas.assign(file=dfHeadlistPas['itemName'].str.split(\"/\"))\n",
    "#dfHeadlistPas['file'] = dfHeadlistPas['file'][-1]\n",
    "#dfHeadlistPas['file'][0][-1]\n",
    "\n",
    "#f = lambda x: len(x[\"review\"].split(\"disappointed\")) -1\n",
    "#reviews[\"disappointed\"] = reviews.apply(f, axis=1)\n",
    "\n",
    "files = []\n",
    "for row in dfHeadlistPas['itemName']:\n",
    "    files.append(row.split('/')[-1])\n",
    "dfHeadlistPas['file'] = files\n",
    "dfHeadlistPas = dfHeadlistPas.drop('itemName', axis=1).drop('cfi', axis=1)\n",
    "dfHeadlistPas"
   ]
  },
  {
   "cell_type": "code",
   "execution_count": null,
   "metadata": {},
   "outputs": [],
   "source": [
    "plLinhas = dfHeadlistPas.drop('size', axis=1).set_index('file').plot(kind='barh')\n",
    "plt.title(\"Checkins no ano por Unit\")\n",
    "plt.show()"
   ]
  },
  {
   "cell_type": "code",
   "execution_count": null,
   "metadata": {},
   "outputs": [],
   "source": [
    "plLinhas = dfHeadlistPas.drop('quantum', axis=1).sort_values(by='size').set_index('file').plot(kind='barh')\n",
    "plt.title(\"Tamanho da Unit\")\n",
    "plt.show()"
   ]
  },
  {
   "cell_type": "code",
   "execution_count": null,
   "metadata": {},
   "outputs": [],
   "source": [
    "dfHeadlistDfm = pd.read_csv(arquivos[3], encoding='ISO-8859-1', delimiter=',')\n",
    "#dfHeadlistDfm = dfHeadlistPas.drop('cfi', axis=1)\n",
    "dfHeadlistDfm = dfHeadlistDfm.query('quantum > 2')\n",
    "dfHeadlistDfm = dfHeadlistDfm.assign(file=dfHeadlistDfm['itemName'].str.split(\"/\"))\n",
    "#dfHeadlistDfm['file'] = dfHeadlistPas['file'][-1]\n",
    "#dfHeadlistDfm['file'][0][-1]\n",
    "\n",
    "#f = lambda x: len(x[\"review\"].split(\"disappointed\")) -1\n",
    "#reviews[\"disappointed\"] = reviews.apply(f, axis=1)\n",
    "\n",
    "files = []\n",
    "for row in dfHeadlistDfm['itemName']:\n",
    "    files.append(row.split('/')[-1])\n",
    "dfHeadlistDfm['file'] = files\n",
    "dfHeadlistDfm = dfHeadlistDfm.drop('itemName', axis=1).drop('cfi', axis=1)\n",
    "dfHeadlistDfm"
   ]
  },
  {
   "cell_type": "code",
   "execution_count": null,
   "metadata": {
    "scrolled": true
   },
   "outputs": [],
   "source": [
    "plLinhas = dfHeadlistDfm.drop('size', axis=1).set_index('file').plot(kind='barh')\n",
    "plt.title(\"Checkins no ano por dfm\")\n",
    "plt.show()"
   ]
  },
  {
   "cell_type": "markdown",
   "metadata": {
    "collapsed": true
   },
   "source": [
    "<http://sonarunj/components/index/9848>\n",
    "\n",
    "***\n",
    "### Changeset\n",
    "\n",
    "Extraido do TFS:<br>\n",
    "```python\n",
    "tf hist /noprompt /recursive /format:detailed /version:D\"1/1/2015\"~D\"31/12/2015\" $/fPJ/PJ/build/release > \n",
    "```\n",
    "\n",
    "\n",
    "** Utilizado arquivo TFS.ipynb para conversão em CSV."
   ]
  },
  {
   "cell_type": "code",
   "execution_count": null,
   "metadata": {
    "scrolled": true
   },
   "outputs": [],
   "source": [
    "dfChangesets = pd.read_csv(arquivos[0], encoding='ISO-8859-1', delimiter=';', header=None, \n",
    "                 names= [\"Salt\", \"Changeset\", \"Desenv\", \"Data\", \"Descricao\", \"File\", \"Filename\"])\n",
    "dfChangesets\n",
    "#df.describe()\n",
    "#dfChangesets.describe()\n",
    "#dfChangesets.shape\n",
    "#dfChangesets.dtypes"
   ]
  },
  {
   "cell_type": "code",
   "execution_count": null,
   "metadata": {},
   "outputs": [],
   "source": [
    "def GraficoDesenv(df):\n",
    "    print (df.Desenv.unique())\n",
    "    Files = df.Desenv.value_counts().to_frame() #index #.tolist()\n",
    "    Files[:20].plot(kind='barh')\n",
    "    plt.title(\"Checkins por desenvolvedor\")\n",
    "    plt.show()\n",
    "    \n",
    "GraficoDesenv(dfChangesets)"
   ]
  },
  {
   "cell_type": "code",
   "execution_count": null,
   "metadata": {
    "scrolled": true
   },
   "outputs": [],
   "source": [
    "#df.groupby('File').count()\n",
    "#Files = df.File.value_counts()\n",
    "Files = dfChangesets.File.value_counts().to_frame() #index #.tolist()\n",
    "Files = Files.filter(like='.pas', axis=0)\n",
    "\n",
    "Files[:20].plot(kind='barh')\n",
    "plt.title(\"Checkins por unit\")\n",
    "plt.show()"
   ]
  },
  {
   "cell_type": "markdown",
   "metadata": {},
   "source": [
    "# Salts\n",
    "\n",
    "Dados exportados do SAC via SQL.<br>\n",
    "\n",
    "> OndeDrive/SAC/Horas.sql\n",
    "```sql\n",
    "SELECT DISTINCT \n",
    "       ia.NUATENDIMENTO,\n",
    "       IA.NUITEM,\n",
    "     ia.NUATENDIMENTO || '/' || IA.NUITEM AS SALT,\n",
    "       RA.CDORIGEMATEND AS ORIGEM,\n",
    "       --ra.NUSEQVERSAO,\n",
    "       ve.NURELEASE,\n",
    "       /*(SELECT COUNT(1)\n",
    "                 FROM SAC.ESACATIVIDADE AA\n",
    "                WHERE AA.CDPROJETO = IA.CDPROJETO\n",
    "                  AND AA.NUATENDIMENTO = IA.NUATENDIMENTO\n",
    "                  AND AA.NUITEM = IA.NUITEM\n",
    "                  AND AA.CDTIPOATIVIDADE = 120) AS PRIORIDADES_SOLICITADAS,\n",
    "       CASE WHEN IA.DTLIMSOLUCAO < CURRENT DATE THEN 'VENCIDA' ELSE 'DENTRO_PRAZO' END SITUACAO_SLA,*/\n",
    "       CLI.SGCLIENTE AS CLIENTE,\n",
    "       IA.DTREGISTRO AS DATA_CADASTRO,\n",
    "       IA.DTLIMSOLUCAO AS DATA_SLA,\n",
    "       CASE IA.CDPRIORIDADE \n",
    "         WHEN 6 THEN 'ZERO/CRÍTICA'\n",
    "         WHEN 5 THEN 'UM/IMPEDITIVA'\n",
    "         WHEN 1 THEN 'DOIS/ALTA'\n",
    "         WHEN 2 THEN 'TRES/MÉDIA'\n",
    "         WHEN 3 THEN 'QUATRO/BAIXA'\n",
    "         WHEN 4 THEN 'INDEFINIDA'\n",
    "       END SEVERIDADE,\n",
    "       CASE IA.CDPRIORIDADE \n",
    "         WHEN 6 THEN 8\n",
    "         WHEN 5 THEN 5\n",
    "         WHEN 1 THEN 4\n",
    "         WHEN 2 THEN 3\n",
    "         WHEN 3 THEN 2\n",
    "         WHEN 4 THEN 3\n",
    "       END PONTUACAO_SEVERIDADE,\n",
    "       SIT.DESITUACAOATEND AS SITUACAO_SALT,\n",
    "       /*CASE WHEN (SELECT COUNT(1)\n",
    "                 FROM SAC.ESACATIVIDADE AA\n",
    "                WHERE AA.CDPROJETO = IA.CDPROJETO\n",
    "                  AND AA.NUATENDIMENTO = IA.NUATENDIMENTO\n",
    "                  AND AA.NUITEM = IA.NUITEM\n",
    "                  AND AA.CDTIPOATIVIDADE IN (243,303)) > 0 THEN 'SIM' ELSE 'NÃO' END AS REJEITE,*/\n",
    "       AA.NUSEQATIVIDADE,\n",
    "       AA.CDTIPOATIVIDADE,\n",
    "       TA.DETIPOATIVIDADE,\n",
    "       AA.DTREALINICIO,\n",
    "       AA.DTREALFINAL,\n",
    "       '0' || CAST(AA.QTHORASREAL AS VARCHAR(10)) AS QTHORASREAL,\n",
    "    (SELECT '0' || CAST(SUM(AA.QTHORASREAL) AS VARCHAR(10))\n",
    "                 FROM SAC.ESACATIVIDADE AA\n",
    "                WHERE AA.CDPROJETO = IA.CDPROJETO\n",
    "                  AND AA.NUATENDIMENTO = IA.NUATENDIMENTO\n",
    "                  AND AA.NUITEM = IA.NUITEM\n",
    "                  --AND AA.CDTIPOATIVIDADE IN (243,303)\n",
    "                  ) AS HORASTOTAIS\n",
    "  FROM sac.ESACREGISTROATEND ra\n",
    " LEFT JOIN sac.ESACVERSAO ve\n",
    "    ON ra.CDPROJETO = ve.CDPROJETO\n",
    "   AND ra.CDSISTEMA = ve.CDSISTEMA\n",
    "   AND ra.NUSEQVERSAO = ve.NUSEQVERSAO\n",
    "  JOIN sac.ESACITEMATEND ia\n",
    "    ON ia.cdProjeto = ia.CDPROJETO\n",
    "   AND ia.NUATENDIMENTO = ra.NUATENDIMENTO\n",
    "  JOIN SAC.ESACSITUACAOATEND SIT\n",
    "    ON SIT.CDSITUACAOATEND = IA.CDSITUACAOATEND\n",
    "  JOIN sac.ESACATIVIDADE a\n",
    "    ON a.cdProjeto = ia.CDPROJETO\n",
    "   AND a.NUATENDIMENTO = ia.NUATENDIMENTO\n",
    "   AND a.NUITEM = ia.NUITEM\n",
    "   AND a.CDTIPOATIVIDADE in (162)\n",
    "  JOIN SAC.ESACCLIENTE CLI\n",
    "    ON CLI.CDCLIENTE = ra.CDCLIENTE    \n",
    "  JOIN SAC.ESACATIVIDADE AA\n",
    "    ON AA.CDPROJETO = IA.CDPROJETO\n",
    "   AND AA.NUATENDIMENTO = IA.NUATENDIMENTO\n",
    "   AND AA.NUITEM = IA.NUITEM    \n",
    " LEFT  JOIN SAC.ESACTIPOATIVIDADE TA\n",
    "    ON AA.CDTIPOATIVIDADE = TA.CDTIPOATIVIDADE\n",
    " WHERE ra.cdProjeto = 3\n",
    "--   AND ra.CDORIGEMATEND = 10\n",
    "   AND ra.CDSISTEMA IN (31,93)\n",
    "--   AND ra.CDCLIENTE <> 3969\n",
    "--   AND a.DTENCERRAMENTO IS NULL\n",
    "--   AND ia.DTLIMSOLUCAO IS NOT NULL\n",
    "--   AND SIT.CDSITUACAOATEND=65\n",
    "   AND VARCHAR_FORMAT (ia.DTREGISTRO,'YYYY-MM-DD') > '2017-01-01'\n",
    "--AND ra.NUATENDIMENTO = 263466\n",
    "ORDER BY ia.NUATENDIMENTO, IA.NUITEM, AA.NUSEQATIVIDADE\n",
    "```\n"
   ]
  },
  {
   "cell_type": "code",
   "execution_count": null,
   "metadata": {},
   "outputs": [],
   "source": [
    "dfSalts = pd.read_csv(arquivos[1], encoding='ISO-8859-1', delimiter=',')\n",
    "dfSalts"
   ]
  },
  {
   "cell_type": "code",
   "execution_count": null,
   "metadata": {},
   "outputs": [],
   "source": [
    "Salts = dfChangesets.Salt.value_counts().to_frame() #index #.tolist()\n",
    "#Files[:20].plot(kind='barh')\n",
    "#Files = Files.filter(like='.pas', axis=0)\n",
    "\n",
    "Salts[:20].plot(kind='barh')\n",
    "plt.title(\"Checkins por Salt\")\n",
    "plt.show()"
   ]
  },
  {
   "cell_type": "code",
   "execution_count": null,
   "metadata": {},
   "outputs": [],
   "source": [
    "Salts = dfChangesets.Salt.value_counts()#.to_frame()\n",
    "Salts = Salts.loc[Salts>1050]\n",
    "Salts = Salts.to_frame().reset_index()\n",
    "Salts = Salts.drop('Salt', axis=1)\n",
    "Salts = Salts.set_index(\"index\")\n",
    "Salts"
   ]
  },
  {
   "cell_type": "code",
   "execution_count": null,
   "metadata": {},
   "outputs": [],
   "source": [
    "#GraficoDesenv(dfChangesets[boolean_array_changesets])\n",
    "GraficoDesenv(dfChangesets)"
   ]
  },
  {
   "cell_type": "code",
   "execution_count": null,
   "metadata": {},
   "outputs": [],
   "source": [
    "Salts_counts = dfChangesets.Salt.value_counts()\n",
    "#Salts_uniques = dfChangesets.Salt.unique()#.to_frame()\n",
    "\n",
    "dfChangesets['conta'] = dfChangesets.Salt.apply(lambda y: 1 if y not in Salts_counts else Salts_counts[y])\n",
    "dfChangesets['apagar'] = dfChangesets.conta.apply(lambda y: True if y>1050 else False)"
   ]
  },
  {
   "cell_type": "code",
   "execution_count": null,
   "metadata": {
    "collapsed": true
   },
   "outputs": [],
   "source": [
    "dfChangesets = dfChangesets[dfChangesets.apagar == False]"
   ]
  },
  {
   "cell_type": "code",
   "execution_count": null,
   "metadata": {},
   "outputs": [],
   "source": [
    "dfChangesets.groupby('Salt')['Salt'].count()"
   ]
  },
  {
   "cell_type": "code",
   "execution_count": null,
   "metadata": {
    "collapsed": true
   },
   "outputs": [],
   "source": [
    "dfChangesets['conta'] = dfChangesets.groupby('Salt')['Salt'].count()"
   ]
  },
  {
   "cell_type": "code",
   "execution_count": null,
   "metadata": {},
   "outputs": [],
   "source": [
    "dfChangesets.head(30)"
   ]
  },
  {
   "cell_type": "code",
   "execution_count": null,
   "metadata": {},
   "outputs": [],
   "source": [
    "dfSalts['Salt'] = dfSalts.SALT\n",
    "dfChangesets = dfChangesets.merge(dfSalts[['Salt','HORASTOTAIS']], how='right', on='Salt')"
   ]
  },
  {
   "cell_type": "code",
   "execution_count": null,
   "metadata": {},
   "outputs": [],
   "source": [
    "dfChangesets.query('HORASTOTAIS > 50')"
   ]
  },
  {
   "cell_type": "code",
   "execution_count": null,
   "metadata": {
    "collapsed": true
   },
   "outputs": [],
   "source": [
    "# remover do changeset salts de 1inclusao de nova versao (Henrique, Ignacio)\n",
    "# criar um df salt e itens checados\n",
    "# quantidade de horas por unit (dividindo igualmente por unit)\n",
    "\n",
    "#filtrar os defects e corrigir com o número da salt (também remove salts NaN)\n",
    "#para isso gerar um arquivo no RTC: defect|salt|colaborador|horas\n",
    "#enquanto isso estou retirando esses changesets\n",
    "\n",
    "# verificar deixar apenas atividades de desenv\n",
    "# criar um df salt e horas total\n",
    "# criar um df |SALT|File|Horas Total Salt/Itens Checados|\n",
    "#Salts que estouraram por unit\n",
    "#Salts por por severidade por unit\n",
    "\n",
    "----------------------------------------------\n",
    "#df_filtered = dfSalts[dfSalts['SALT'] == '12149/1']\n",
    "#df_filtered\n",
    "\n",
    "#dfSalts.DETIPOATIVIDADE.unique()\n",
    "\n",
    "----------------------------------------------\n",
    "dfAtividades = dfSalts.groupby(['DETIPOATIVIDADE'])\n",
    "dfAtividades.describe()\n",
    "#dfAtividades['QTHORASREAL'].aggregate(np.sum).to_frame()\n",
    "----------------------------------------------\n",
    "\n",
    "dfChangesetsArray = dfChangesets\n",
    "dfChangesetsArray.set_index('Salt');\n",
    "#dfChangesets[(dfChangesetsArray.Salt[:6] == 'Defect')]\n",
    "#dfChangesets = dfChangesetsArray.mask(lambda x: x['Salt'][:6] == 'Defect')\n",
    "#dfChangesets = dfChangesetsArray.Salt.str.contains('Defect')\n",
    "#dfChangesets = dfChangesetsArray.Salt.str.startswith( )\n",
    "dfChangesetsArray = dfChangesetsArray.Salt.str.contains('/')\n",
    "\n",
    "dfChangesets[dfChangesetsArray]#dfChangesets = \n",
    "#dfChangesets\n",
    "GraficoDesenv(dfChangesets[dfChangesetsArray])\n",
    "\n"
   ]
  }
 ],
 "metadata": {
  "kernelspec": {
   "display_name": "Python 3",
   "language": "python",
   "name": "python3"
  },
  "language_info": {
   "codemirror_mode": {
    "name": "ipython",
    "version": 3
   },
   "file_extension": ".py",
   "mimetype": "text/x-python",
   "name": "python",
   "nbconvert_exporter": "python",
   "pygments_lexer": "ipython3",
   "version": "3.6.1"
  }
 },
 "nbformat": 4,
 "nbformat_minor": 2
}
