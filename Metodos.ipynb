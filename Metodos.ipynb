{
 "cells": [
  {
   "cell_type": "markdown",
   "metadata": {},
   "source": [
    "***\n",
    "### Metodos\n",
    "\n",
    "Extraido do TFS os changesets:<br>\n",
    "```python\n",
    "tf hist /noprompt /recursive /format:detailed /version:D\"1/1/2015\"~D\"31/12/2015\" $/fPJ/PJ/build/release > \n",
    "```\n",
    "Verificar as alterações:<br>\n",
    "```python\n",
    "\"D:\\\\TFS\\\\Microsoft Visual Studio 10.0\\\\Common7\\\\IDE\\\\tf.exe\" difference $/fPJ/PJ/build/release/4.20/producao/pjDev/src/pj/Cliente/uspjConfirmacaoPadrao.pas  /format:unix /noprompt /version:C555472~C555471 /ignorespace      \n",
    "```\n",
    "Pegar arquivo na versão:<br>\n",
    "```python\n",
    "\"D:\\\\TFS\\\\Microsoft Visual Studio 10.0\\\\Common7\\\\IDE\\\\tf.exe\" get $/fPJ/PJ/build/release/4.20/producao/pjDev/src/pj/Servidor/uspjSelectFluxoObjetoBasico.pas /version:C553471 /force /noprompt\n",
    "```\n",
    "\n",
    "** Utilizado arquivo TFS.ipynb para conversão em CSV e Changesets.ipynb."
   ]
  },
  {
   "cell_type": "code",
   "execution_count": 1,
   "metadata": {
    "collapsed": true
   },
   "outputs": [],
   "source": [
    "import pandas as pd\n",
    "import numpy as np\n",
    "import os\n",
    "import re\n",
    "import matplotlib.pyplot as plt\n",
    "\n",
    "%matplotlib inline\n",
    "\n",
    "#arquivos = ['release_changeset_20171.csv']\n",
    "arquivos = ['C:\\\\temp\\\\main_changeset.csv']\n",
    "TFS = '\"D:\\\\\\TFS\\\\\\Microsoft Visual Studio 10.0\\\\\\Common7\\\\\\IDE\\\\\\\\tf.exe\"'"
   ]
  },
  {
   "cell_type": "code",
   "execution_count": 42,
   "metadata": {},
   "outputs": [],
   "source": [
    "dfChangesets = pd.read_csv(arquivos[0], encoding='ISO-8859-1', delimiter=';', header=None,\n",
    "                           names= [\"Salt\", \"Changeset\", \"Desenv\", \"Data\", \"Descricao\", \"File\", \"Filename\"],\n",
    "                           chunksize=20000, iterator=True)"
   ]
  },
  {
   "cell_type": "code",
   "execution_count": 41,
   "metadata": {},
   "outputs": [],
   "source": [
    "for chunk in dfChangesets:\n",
    "    print(chunk.shape)"
   ]
  },
  {
   "cell_type": "code",
   "execution_count": 36,
   "metadata": {},
   "outputs": [
    {
     "ename": "AttributeError",
     "evalue": "'TextFileReader' object has no attribute 'shape'",
     "output_type": "error",
     "traceback": [
      "\u001b[1;31m---------------------------------------------------------------------------\u001b[0m",
      "\u001b[1;31mAttributeError\u001b[0m                            Traceback (most recent call last)",
      "\u001b[1;32m<ipython-input-36-a39b5534ea41>\u001b[0m in \u001b[0;36m<module>\u001b[1;34m()\u001b[0m\n\u001b[1;32m----> 1\u001b[1;33m \u001b[0mdfChangesets\u001b[0m\u001b[1;33m.\u001b[0m\u001b[0mshape\u001b[0m\u001b[1;33m\u001b[0m\u001b[0m\n\u001b[0m",
      "\u001b[1;31mAttributeError\u001b[0m: 'TextFileReader' object has no attribute 'shape'"
     ]
    }
   ],
   "source": [
    "dfChangesets.shape"
   ]
  },
  {
   "cell_type": "code",
   "execution_count": null,
   "metadata": {},
   "outputs": [
    {
     "name": "stdout",
     "output_type": "stream",
     "text": [
      "linhas: ['All files are up to date.']\n",
      "linhas: ['All files are up to date.']\n",
      "linhas: ['All files are up to date.']\n",
      "linhas: ['All files are up to date.']\n",
      "linhas: ['All files are up to date.']\n",
      "linhas: ['All files are up to date.']\n",
      "linhas: ['All files are up to date.']\n",
      "linhas: ['All files are up to date.']\n",
      "linhas: ['All files are up to date.']\n",
      "linhas: ['All files are up to date.']\n",
      "linhas: ['All files are up to date.']\n",
      "linhas: ['All files are up to date.']\n",
      "linhas: ['All files are up to date.']\n",
      "linhas: ['All files are up to date.']\n",
      "linhas: ['All files are up to date.']\n",
      "linhas: ['All files are up to date.']\n",
      "linhas: ['All files are up to date.']\n",
      "linhas: ['All files are up to date.']\n",
      "linhas: ['All files are up to date.']\n",
      "linhas: ['All files are up to date.']\n",
      "linhas: ['All files are up to date.']\n",
      "linhas: ['All files are up to date.']\n",
      "linhas: ['All files are up to date.']\n",
      "linhas: ['All files are up to date.']\n",
      "linhas: ['All files are up to date.']\n",
      "linhas: ['All files are up to date.']\n",
      "linhas: ['All files are up to date.']\n",
      "linhas: ['All files are up to date.']\n",
      "linhas: ['All files are up to date.']\n",
      "linhas: ['All files are up to date.']\n",
      "linhas: ['All files are up to date.']\n",
      "linhas: ['All files are up to date.']\n",
      "linhas: ['All files are up to date.']\n",
      "linhas: ['All files are up to date.']\n",
      "linhas: ['All files are up to date.']\n",
      "linhas: ['All files are up to date.']\n",
      "linhas: ['All files are up to date.']\n",
      "linhas: ['All files are up to date.']\n",
      "linhas: ['All files are up to date.']\n",
      "linhas: ['All files are up to date.']\n",
      "linhas: ['All files are up to date.']\n",
      "linhas: ['All files are up to date.']\n",
      "linhas: ['All files are up to date.']\n",
      "linhas: ['All files are up to date.']\n",
      "linhas: ['All files are up to date.']\n",
      "linhas: ['All files are up to date.']\n",
      "linhas: ['All files are up to date.']\n",
      "linhas: ['All files are up to date.']\n",
      "linhas: ['All files are up to date.']\n",
      "linhas: ['All files are up to date.']\n",
      "linhas: ['All files are up to date.']\n",
      "linhas: ['All files are up to date.']\n",
      "linhas: ['All files are up to date.']\n",
      "linhas: ['All files are up to date.']\n",
      "linhas: ['All files are up to date.']\n",
      "linhas: ['All files are up to date.']\n",
      "linhas: ['All files are up to date.']\n",
      "linhas: ['All files are up to date.']\n",
      "linhas: ['All files are up to date.']\n",
      "linhas: ['All files are up to date.']\n",
      "linhas: ['All files are up to date.']\n",
      "linhas: ['All files are up to date.']\n",
      "linhas: ['All files are up to date.']\n",
      "linhas: ['All files are up to date.']\n",
      "linhas: ['All files are up to date.']\n",
      "linhas: ['All files are up to date.']\n",
      "linhas: ['All files are up to date.']\n",
      "linhas: ['All files are up to date.']\n",
      "linhas: ['All files are up to date.']\n",
      "linhas: ['All files are up to date.']\n",
      "linhas: ['All files are up to date.']\n",
      "linhas: ['All files are up to date.']\n",
      "linhas: ['All files are up to date.']\n",
      "linhas: ['All files are up to date.']\n",
      "linhas: ['All files are up to date.']\n",
      "linhas: ['All files are up to date.']\n",
      "linhas: ['All files are up to date.']\n",
      "linhas: ['All files are up to date.']\n",
      "linhas: ['All files are up to date.']\n",
      "linhas: ['All files are up to date.']\n",
      "linhas: ['All files are up to date.']\n"
     ]
    }
   ],
   "source": [
    "#for index, row in dfChangesets[(dfChangesets.Salt == '247275/4')].iterrows():\n",
    "#for index, row in dfChangesets[(dfChangesets.Salt == '260601/1')].iterrows():\n",
    "#for index, row in dfChangesets[(dfChangesets.Salt == '241736/1')].iterrows():\n",
    "#for index, row in dfChangesets[(dfChangesets.Salt == 'Defect 120562')].iterrows():\n",
    "#for index, row in dfChangesets[(dfChangesets.Salt == '1/1')].iterrows():\n",
    "chunk_iter = 0\n",
    "for chunk in dfChangesets:\n",
    "    geral = {'NOME':[],'SALT':[],'CHANGESET':[],'DESENV':[],'ARQUIVO':[]}\n",
    "    metodos = []\n",
    "    for index, row in chunk.iterrows():\n",
    "        if row['File'][-3:] != 'pas':\n",
    "            continue\n",
    "        #print (row)\n",
    "        diferenca = diff(row)\n",
    "        #print (diferenca)\n",
    "        linhas = line(diferenca)\n",
    "        #print (linhas)\n",
    "        arquivo = get(row)\n",
    "        #print (arquivo[-3:])\n",
    "        if os.path.isfile(arquivo):\n",
    "            if arquivo[-3:] == 'pas':\n",
    "                for linha in linhas:\n",
    "                    nome = metodo(arquivo, int(linha))\n",
    "                    if nome != '':\n",
    "                        if not (nome in metodos):\n",
    "                            metodos.append([nome, arquivo])\n",
    "                        #print (nome)\n",
    "        for nome, arquivo in metodos:\n",
    "            #print (nome)\n",
    "            geral['NOME'].append(nome)\n",
    "            geral['SALT'].append(row[\"Salt\"])\n",
    "            geral['CHANGESET'].append(row[\"Changeset\"])\n",
    "            geral['DESENV'].append(row[\"Desenv\"])\n",
    "            geral['ARQUIVO'].append(arquivo)\n",
    "\n",
    "    data_frame = pd.DataFrame.from_dict(geral, dtype=object)\n",
    "    data_frame.to_csv(path_or_buf='nome'+str(chunk_iter)+'.csv', index=False)\n",
    "    chunk_iter += 1\n",
    "    #print (geral"
   ]
  },
  {
   "cell_type": "code",
   "execution_count": 270,
   "metadata": {},
   "outputs": [
    {
     "data": {
      "text/html": [
       "<div>\n",
       "<style>\n",
       "    .dataframe thead tr:only-child th {\n",
       "        text-align: right;\n",
       "    }\n",
       "\n",
       "    .dataframe thead th {\n",
       "        text-align: left;\n",
       "    }\n",
       "\n",
       "    .dataframe tbody tr th {\n",
       "        vertical-align: top;\n",
       "    }\n",
       "</style>\n",
       "<table border=\"1\" class=\"dataframe\">\n",
       "  <thead>\n",
       "    <tr style=\"text-align: right;\">\n",
       "      <th></th>\n",
       "      <th>Salt</th>\n",
       "      <th>Changeset</th>\n",
       "      <th>Desenv</th>\n",
       "      <th>Data</th>\n",
       "      <th>Descricao</th>\n",
       "      <th>File</th>\n",
       "      <th>Filename</th>\n",
       "    </tr>\n",
       "  </thead>\n",
       "  <tbody>\n",
       "    <tr>\n",
       "      <th>143593</th>\n",
       "      <td>241736/1</td>\n",
       "      <td>521073</td>\n",
       "      <td>douglas.zuliani</td>\n",
       "      <td>8/6/2017</td>\n",
       "      <td>SALT 241736/1  - Corrigido problema ao lançar ...</td>\n",
       "      <td>uspjProcessomvServ.pas</td>\n",
       "      <td>/fPJ/PJ/build/main/pjDev/src/pj/Servidor/uspjP...</td>\n",
       "    </tr>\n",
       "  </tbody>\n",
       "</table>\n",
       "</div>"
      ],
      "text/plain": [
       "            Salt  Changeset           Desenv      Data  \\\n",
       "143593  241736/1     521073  douglas.zuliani  8/6/2017   \n",
       "\n",
       "                                                Descricao  \\\n",
       "143593  SALT 241736/1  - Corrigido problema ao lançar ...   \n",
       "\n",
       "                          File  \\\n",
       "143593  uspjProcessomvServ.pas   \n",
       "\n",
       "                                                 Filename  \n",
       "143593  /fPJ/PJ/build/main/pjDev/src/pj/Servidor/uspjP...  "
      ]
     },
     "execution_count": 270,
     "metadata": {},
     "output_type": "execute_result"
    }
   ],
   "source": [
    "dfChangesets[(dfChangesets.Salt == '241736/1')]"
   ]
  },
  {
   "cell_type": "code",
   "execution_count": null,
   "metadata": {
    "collapsed": true
   },
   "outputs": [],
   "source": [
    "df = pd.DataFrame(geral)\n",
    "df.to_csv('C:\\\\temp\\\\geral.csv', index=False, header=False, encoding ='ISO-8859-1', sep=';')"
   ]
  },
  {
   "cell_type": "code",
   "execution_count": null,
   "metadata": {},
   "outputs": [
    {
     "name": "stdout",
     "output_type": "stream",
     "text": [
      "File: D:\\UNJ\\fPJ\\PJ\\build\\release\\4.20\\producao\\pjDev\\src\\pj\\Cliente\\uspjConfirmacaoPadrao.pas\n",
      "===================================================================\n",
      "150,151c150\n",
      "<   // 26/12/2017 - Wilian.Ivo - Salt: 262749/1\n",
      "<   if not (nErroLogin in [nLoginOK, nLoginSenhaPrestesAExpirar]) then\n",
      "---\n",
      ">   if nErroLogin > 0 then\n",
      "===================================================================\n",
      "\n",
      "File: D:\\UNJ\\fPJ\\PJ\\build\\release\\4.0.18\\USP\\pjDev\\src\\3rd_party\\edtDev\\src\\Cliente\\uedtEditor5.pas\n",
      "===================================================================\n",
      "1411,1412d1410\n",
      "<     // 07/12/2017 - Anderson.Albuquerque - SALT 260601/1\n",
      "<     procedure PassarParametrosParaEnvioDeEmail(oForm: TspForm); virtual;\n",
      "15266,15267c15264\n",
      "<     // 07/12/2017 - Anderson.Albuquerque - SALT 260601/1\n",
      "<     PassarParametrosParaEnvioDeEmail(oForm);\n",
      "---\n",
      ">     oForm.PassaParametro(sPRM_ADD_ARQS_EMAIL, FPathArquivoEmail);\n",
      "21121,21126d21117\n",
      "< // 07/12/2017 - Anderson.Albuquerque - SALT 260601/1\n",
      "< procedure TfedtEditor5.PassarParametrosParaEnvioDeEmail(oForm: TspForm);\n",
      "< begin\n",
      "<   oForm.PassaParametro(sPRM_ADD_ARQS_EMAIL, FPathArquivoEmail);\n",
      "< end;\n",
      "< \n",
      "===================================================================\n",
      "\n"
     ]
    }
   ],
   "source": [
    "#File: D:\\UNJ\\fPJ\\PJ\\build\\release\\4.20\\producao\\pjDev\\src\\pj\\Cliente\\uspjConfirmacaoPadrao.pas\n",
    "#===================================================================\n",
    "#150,151c150\n",
    "#<   // 26/12/2017 - Wilian.Ivo - Salt: 262749/1\n",
    "#<   if not (nErroLogin in [nLoginOK, nLoginSenhaPrestesAExpirar]) then\n",
    "#---\n",
    "#>   if nErroLogin > 0 then\n",
    "#===================================================================\n",
    "\n",
    "def diff(row):\n",
    "    comando = TFS + ' difference ' + '$' + row['Filename'] + ' /format:unix /noprompt '\n",
    "    comando += '/version:' + 'C' + str(row['Changeset']) + '~' + 'C' + str(int(str(row['Changeset']).replace('C', '')) - 1) + ' /ignorespace'\n",
    "    #print (comando)\n",
    "    pipe = os.popen(comando)\n",
    "    retorno = pipe.read()\n",
    "    pipe.close()\n",
    "    #print (a)\n",
    "    return retorno\n",
    "\n",
    "teste = {'Filename':'/fPJ/PJ/build/release/4.20/producao/pjDev/src/pj/Cliente/uspjConfirmacaoPadrao.pas', 'Changeset':'555472'}\n",
    "print (diff(teste))\n",
    "\n",
    "teste = {'Filename':'/fPJ/PJ/build/release/4.0.18/USP/pjDev/src/3rd_party/edtDev/src/Cliente/uedtEditor5.pas', 'Changeset':'551248'}\n",
    "print (diff(teste))\n"
   ]
  },
  {
   "cell_type": "code",
   "execution_count": 2,
   "metadata": {},
   "outputs": [
    {
     "name": "stdout",
     "output_type": "stream",
     "text": [
      "File: D:\\UNJ\\fPJ\\PJ\\build\\release\\4.20\\producao\\pjDev\\src\\pj\\Servidor\\uspjSelectFluxoObjetoBasico.pas\n",
      "===================================================================\n",
      "544a545\n",
      ">     wflSelectPrincipal.AddColuna('p.flLitispendencia as cc_flLitispendencia');\n",
      "546d546\n",
      "<     //13/12/2017 - Wilian.Ivo - Salt: 255004/2\n",
      "548,559c548,552\n",
      "<       FSQL.Decode(FSQL.Value('pSup.flLitispendencia', 'p.flLitispendencia'),\n",
      "<       [QuotedStr(cLitisPendente), QuotedStr(sLITIS_PENDENTE), QuotedStr(cLitisSuspeita),\n",
      "<       QuotedStr(sLITIS_SUSPEITA), QuotedStr(cLitisConfirmada), QuotedStr(sLITIS_CONFIRMADA),\n",
      "<       QuotedStr(cLitisConexao), QuotedStr(sLITIS_CONEXAO), QuotedStr(cLitisDescartada),\n",
      "<       QuotedStr(sLITIS_DESCARTADA), QuotedStr(sLITIS_INEXISTENTE)]) + ' as cc_deLitispendencia');\n",
      "< \n",
      "<     //26/12/2017 - Wilian.Ivo - Salt: 255004/2\n",
      "<     if (oParametrosConsultaObjetoFila.TestarCampoNaProjecao('cc_deLitispendencia')) then\n",
      "<       wflSelectPrincipal.AddColuna(FSQL.Value('pSup.flLitispendencia', 'p.flLitispendencia') +\n",
      "<         ' as cc_flLitispendencia')\n",
      "<     else\n",
      "<       wflSelectPrincipal.AddColuna('p.flLitispendencia as cc_flLitispendencia');\n",
      "---\n",
      ">       FSQL.Decode('p.flLitispendencia', [QuotedStr(cLitisPendente), QuotedStr(sLITIS_PENDENTE),\n",
      ">       QuotedStr(cLitisSuspeita), QuotedStr(sLITIS_SUSPEITA), QuotedStr(cLitisConfirmada),\n",
      ">       QuotedStr(sLITIS_CONFIRMADA), QuotedStr(cLitisConexao), QuotedStr(sLITIS_CONEXAO),\n",
      ">       QuotedStr(cLitisDescartada), QuotedStr(sLITIS_DESCARTADA), QuotedStr(sLITIS_INEXISTENTE)]) +\n",
      ">       ' as cc_deLitispendencia');\n",
      "960,963d952\n",
      "< \n",
      "<     //13/12/2017 - Wilian.Ivo - Salt: 255004/2\n",
      "<     AdicionarJuncaoSomenteSeEstiverNaProjecao('cc_deLitispendencia', 'p', 'pSup',\n",
      "<       'p.cdProcessoSup = pSup.cdProcesso', True);\n",
      "1202,1204d1190\n",
      "<     //13/12/2017 - Wilian.Ivo - Salt: 255004/2\n",
      "<     AdicionarSomenteSeEstiverNaProjecao('cc_deLitispendencia',\n",
      "<       GetTabelaDB('espjProcesso pSup'), tbsTabela);\n",
      "===================================================================\n",
      "\n"
     ]
    }
   ],
   "source": [
    "pipe = os.popen('\"D:\\\\TFS\\\\Microsoft Visual Studio 10.0\\\\Common7\\\\IDE\\\\tf.exe\" difference $/fPJ/PJ/build/release/4.20/producao/pjDev/src/pj/Servidor/uspjSelectFluxoObjetoBasico.pas /format:unix /noprompt /version:C553471~C553470 /ignorespace')\n",
    "a = pipe.read()\n",
    "pipe.close()\n",
    "print (a)\n"
   ]
  },
  {
   "cell_type": "code",
   "execution_count": 45,
   "metadata": {
    "scrolled": true
   },
   "outputs": [
    {
     "data": {
      "text/plain": [
       "'D:\\\\UNJ\\\\fPJ\\\\PJ\\\\build\\\\release\\\\4.20\\\\producao\\\\pjDev\\\\src\\\\pj\\\\Servidor\\\\uspjSelectFluxoObjetoBasico.pas'"
      ]
     },
     "execution_count": 45,
     "metadata": {},
     "output_type": "execute_result"
    }
   ],
   "source": [
    "#D:\\UNJ\\fPJ\\PJ\\build\\release\\4.20\\producao\\pjDev\\src\\pj\\Servidor:\n",
    "#Replacing uspjSelectFluxoObjetoBasico.pas\n",
    "\n",
    "def get(row):\n",
    "    #pipe = os.popen('\"D:\\\\TFS\\\\Microsoft Visual Studio 10.0\\\\Common7\\\\IDE\\\\tf.exe\" get $/fPJ/PJ/build/release/4.20/producao/pjDev/src/pj/Servidor/uspjSelectFluxoObjetoBasico.pas /version:C553471 /force /noprompt')\n",
    "    comando = TFS + ' get $' + row['Filename'] + ' /version:' + 'C'\n",
    "    comando += str(row['Changeset']) + ' /force /noprompt'\n",
    "    #print(comando)\n",
    "    pipe = os.popen(comando)\n",
    "    retorno = pipe.read()\n",
    "    pipe.close()\n",
    "    #print (retorno)\n",
    "    linhas = retorno.splitlines()\n",
    "    #print(len(linhas))\n",
    "    caminho = ''\n",
    "    arquivo = ''\n",
    "    if linhas[0] != 'All files are up to date.':\n",
    "        try:\n",
    "            caminho = linhas[0][:len(linhas[0])-1]\n",
    "            #caminho = caminho.replace('\\\\', '\\\\\\\\')\n",
    "            arquivo = linhas[1].replace('Replacing ', '').replace('Getting ', '')\n",
    "        except:\n",
    "            print ('linhas:',linhas)\n",
    "    return caminho + '\\\\' + arquivo\n",
    "\n",
    "teste = {'Filename':'/fPJ/PJ/build/release/4.20/producao/pjDev/src/pj/Servidor/uspjSelectFluxoObjetoBasico.pas', 'Changeset':'553471'}\n",
    "get(teste)"
   ]
  },
  {
   "cell_type": "code",
   "execution_count": 44,
   "metadata": {
    "collapsed": true
   },
   "outputs": [],
   "source": [
    "def line(diff):\n",
    "    retorno = []\n",
    "    for linha in diff.splitlines():\n",
    "        if linha[0].isdigit():\n",
    "            registro = linha.split(',')[0]\n",
    "            if registro.isdigit():\n",
    "                retorno.append(registro)\n",
    "            else:\n",
    "                registro = linha.split('c')[0]\n",
    "                if registro.isdigit():\n",
    "                    retorno.append(registro)\n",
    "                else:\n",
    "                    registro = linha.split('d')[0]\n",
    "                    if registro.isdigit():\n",
    "                        retorno.append(registro)\n",
    "    return retorno\n"
   ]
  },
  {
   "cell_type": "code",
   "execution_count": 31,
   "metadata": {},
   "outputs": [
    {
     "data": {
      "text/plain": [
       "'procedure TspjSelectFluxoObjetoBasico.AdicionarCondicoes;'"
      ]
     },
     "execution_count": 31,
     "metadata": {},
     "output_type": "execute_result"
    }
   ],
   "source": [
    "def metodo(arquivo, linha):\n",
    "    #f = open('D:\\\\UNJ\\\\fPJ\\\\PJ\\\\build\\\\release\\\\4.20\\\\producao\\\\pjDev\\\\src\\\\pj\\\\Servidor\\\\uspjSelectFluxoObjetoBasico.pas')\n",
    "    f = open(arquivo)\n",
    "    lines = f.readlines()\n",
    "    if linha > len(lines):\n",
    "        print ('arquivo:', arquivo)\n",
    "        metodo = ''\n",
    "    else:\n",
    "        while (linha > 0):\n",
    "            texto = ''\n",
    "            try:\n",
    "                texto = lines[linha]\n",
    "            except:\n",
    "                #print ('lines:', lines)\n",
    "                texto = ''\n",
    "                metodo = ''\n",
    "            if re.match('function.*\\..*\\;', texto) or re.match('procedure.*\\..*\\;', texto): \n",
    "                metodo = texto\n",
    "                break\n",
    "            linha -= 1\n",
    "        else:\n",
    "            metodo = ''\n",
    "    return metodo.replace('\\n', '')\n",
    "\n",
    "metodo('D:\\\\UNJ\\\\fPJ\\\\PJ\\\\build\\\\release\\\\4.20\\\\producao\\\\pjDev\\\\src\\\\pj\\\\Servidor\\\\uspjSelectFluxoObjetoBasico.pas', 800)"
   ]
  }
 ],
 "metadata": {
  "kernelspec": {
   "display_name": "Python 3",
   "language": "python",
   "name": "python3"
  },
  "language_info": {
   "codemirror_mode": {
    "name": "ipython",
    "version": 3
   },
   "file_extension": ".py",
   "mimetype": "text/x-python",
   "name": "python",
   "nbconvert_exporter": "python",
   "pygments_lexer": "ipython3",
   "version": "3.6.1"
  }
 },
 "nbformat": 4,
 "nbformat_minor": 2
}
