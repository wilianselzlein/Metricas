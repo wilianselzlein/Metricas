{
 "cells": [
  {
   "cell_type": "markdown",
   "metadata": {},
   "source": [
    "***\n",
    "### Metodos\n",
    "\n",
    "Extraido do TFS os changesets:<br>\n",
    "```python\n",
    "tf hist /noprompt /recursive /format:detailed /version:D\"1/1/2015\"~D\"31/12/2015\" $/fPJ/PJ/build/release > \n",
    "```\n",
    "Verificar as alterações:<br>\n",
    "```python\n",
    "\"D:\\\\TFS\\\\Microsoft Visual Studio 10.0\\\\Common7\\\\IDE\\\\tf.exe\" difference $/fPJ/PJ/build/release/4.20/producao/pjDev/src/pj/Cliente/uspjConfirmacaoPadrao.pas  /format:unix /noprompt /version:C555472~C555471 /ignorespace      \n",
    "```\n",
    "Pegar arquivo na versão:<br>\n",
    "```python\n",
    "\"D:\\\\TFS\\\\Microsoft Visual Studio 10.0\\\\Common7\\\\IDE\\\\tf.exe\" get $/fPJ/PJ/build/release/4.20/producao/pjDev/src/pj/Servidor/uspjSelectFluxoObjetoBasico.pas /version:C553471 /force /noprompt\n",
    "```\n",
    "\n",
    "** Utilizado arquivo TFS.ipynb para conversão em CSV e Changesets.ipynb."
   ]
  },
  {
   "cell_type": "code",
   "execution_count": 63,
   "metadata": {
    "collapsed": true
   },
   "outputs": [],
   "source": [
    "import pandas as pd\n",
    "import numpy as np\n",
    "import os\n",
    "import re\n",
    "import matplotlib.pyplot as plt\n",
    "\n",
    "%matplotlib inline\n",
    "\n",
    "arquivos = ['release_changeset_20171.csv']\n",
    "TFS = '\"D:\\\\\\TFS\\\\\\Microsoft Visual Studio 10.0\\\\\\Common7\\\\\\IDE\\\\\\\\tf.exe\"'"
   ]
  },
  {
   "cell_type": "code",
   "execution_count": 3,
   "metadata": {},
   "outputs": [
    {
     "data": {
      "text/html": [
       "<div>\n",
       "<style>\n",
       "    .dataframe thead tr:only-child th {\n",
       "        text-align: right;\n",
       "    }\n",
       "\n",
       "    .dataframe thead th {\n",
       "        text-align: left;\n",
       "    }\n",
       "\n",
       "    .dataframe tbody tr th {\n",
       "        vertical-align: top;\n",
       "    }\n",
       "</style>\n",
       "<table border=\"1\" class=\"dataframe\">\n",
       "  <thead>\n",
       "    <tr style=\"text-align: right;\">\n",
       "      <th></th>\n",
       "      <th>Salt</th>\n",
       "      <th>Changeset</th>\n",
       "      <th>Desenv</th>\n",
       "      <th>Data</th>\n",
       "      <th>Descricao</th>\n",
       "      <th>File</th>\n",
       "      <th>Filename</th>\n",
       "    </tr>\n",
       "  </thead>\n",
       "  <tbody>\n",
       "    <tr>\n",
       "      <th>0</th>\n",
       "      <td>0/0</td>\n",
       "      <td>553789</td>\n",
       "      <td>felipe.caputo</td>\n",
       "      <td>27/12/2017</td>\n",
       "      <td>Implementada invalidação de cache para quando ...</td>\n",
       "      <td>uintCommon.pas</td>\n",
       "      <td>/fPJ/PJ/build/release/4.20/servicepack/pjDev/s...</td>\n",
       "    </tr>\n",
       "    <tr>\n",
       "      <th>1</th>\n",
       "      <td>0/0</td>\n",
       "      <td>553789</td>\n",
       "      <td>felipe.caputo</td>\n",
       "      <td>27/12/2017</td>\n",
       "      <td>Implementada invalidação de cache para quando ...</td>\n",
       "      <td>uintWsProcessadorConsultarTeorComunicacao.pas</td>\n",
       "      <td>/fPJ/PJ/build/release/4.20/servicepack/pjDev/s...</td>\n",
       "    </tr>\n",
       "    <tr>\n",
       "      <th>2</th>\n",
       "      <td>247275/4</td>\n",
       "      <td>553788</td>\n",
       "      <td>emerson.db1</td>\n",
       "      <td>27/12/2017</td>\n",
       "      <td>SALT 247275/4 - Feature 121967 - [24] - Distri...</td>\n",
       "      <td>dbChange.xml</td>\n",
       "      <td>/fPJ/PJ/build/release/4.20/servicepack/pjDev/d...</td>\n",
       "    </tr>\n",
       "    <tr>\n",
       "      <th>3</th>\n",
       "      <td>247275/4</td>\n",
       "      <td>553788</td>\n",
       "      <td>emerson.db1</td>\n",
       "      <td>27/12/2017</td>\n",
       "      <td>SALT 247275/4 - Feature 121967 - [24] - Distri...</td>\n",
       "      <td>PJ011829.DH4</td>\n",
       "      <td>/fPJ/PJ/build/release/4.20/servicepack/pjDev/d...</td>\n",
       "    </tr>\n",
       "    <tr>\n",
       "      <th>4</th>\n",
       "      <td>247275/4</td>\n",
       "      <td>553788</td>\n",
       "      <td>emerson.db1</td>\n",
       "      <td>27/12/2017</td>\n",
       "      <td>SALT 247275/4 - Feature 121967 - [24] - Distri...</td>\n",
       "      <td>PJ011829.DH4</td>\n",
       "      <td>/fPJ/PJ/build/release/4.20/servicepack/pjDev/d...</td>\n",
       "    </tr>\n",
       "  </tbody>\n",
       "</table>\n",
       "</div>"
      ],
      "text/plain": [
       "       Salt  Changeset         Desenv        Data  \\\n",
       "0       0/0     553789  felipe.caputo  27/12/2017   \n",
       "1       0/0     553789  felipe.caputo  27/12/2017   \n",
       "2  247275/4     553788    emerson.db1  27/12/2017   \n",
       "3  247275/4     553788    emerson.db1  27/12/2017   \n",
       "4  247275/4     553788    emerson.db1  27/12/2017   \n",
       "\n",
       "                                           Descricao  \\\n",
       "0  Implementada invalidação de cache para quando ...   \n",
       "1  Implementada invalidação de cache para quando ...   \n",
       "2  SALT 247275/4 - Feature 121967 - [24] - Distri...   \n",
       "3  SALT 247275/4 - Feature 121967 - [24] - Distri...   \n",
       "4  SALT 247275/4 - Feature 121967 - [24] - Distri...   \n",
       "\n",
       "                                            File  \\\n",
       "0                                 uintCommon.pas   \n",
       "1  uintWsProcessadorConsultarTeorComunicacao.pas   \n",
       "2                                   dbChange.xml   \n",
       "3                                   PJ011829.DH4   \n",
       "4                                   PJ011829.DH4   \n",
       "\n",
       "                                            Filename  \n",
       "0  /fPJ/PJ/build/release/4.20/servicepack/pjDev/s...  \n",
       "1  /fPJ/PJ/build/release/4.20/servicepack/pjDev/s...  \n",
       "2  /fPJ/PJ/build/release/4.20/servicepack/pjDev/d...  \n",
       "3  /fPJ/PJ/build/release/4.20/servicepack/pjDev/d...  \n",
       "4  /fPJ/PJ/build/release/4.20/servicepack/pjDev/d...  "
      ]
     },
     "execution_count": 3,
     "metadata": {},
     "output_type": "execute_result"
    }
   ],
   "source": [
    "dfChangesets = pd.read_csv(arquivos[0], encoding='ISO-8859-1', delimiter=';', header=None, \n",
    "                 names= [\"Salt\", \"Changeset\", \"Desenv\", \"Data\", \"Descricao\", \"File\", \"Filename\"])\n",
    "dfChangesets.head(5)"
   ]
  },
  {
   "cell_type": "code",
   "execution_count": 4,
   "metadata": {},
   "outputs": [
    {
     "data": {
      "text/plain": [
       "(978709, 7)"
      ]
     },
     "execution_count": 4,
     "metadata": {},
     "output_type": "execute_result"
    }
   ],
   "source": [
    "dfChangesets.shape"
   ]
  },
  {
   "cell_type": "code",
   "execution_count": null,
   "metadata": {},
   "outputs": [],
   "source": [
    "metodos = []\n",
    "\n",
    "for index, row in dfChangesets[(dfChangesets.Salt == '260601/1')].iterrows():\n",
    "    #print (row)\n",
    "    diferenca = diff(row)\n",
    "    #print (diferenca)\n",
    "    #linhas = line(diferenca)\n",
    "    #arquivo = get(row)\n",
    "    #for linha in lines:\n",
    "        #nome = metodo(arquivo, linha)\n",
    "        #print (nome)\n",
    "        #metodos.append([nome, row[\"Salt\"], row[\"Changeset\"], row[\"Desenv\"], row \"File\"])\n"
   ]
  },
  {
   "cell_type": "code",
   "execution_count": 144,
   "metadata": {},
   "outputs": [
    {
     "name": "stdout",
     "output_type": "stream",
     "text": [
      "File: D:\\UNJ\\fPJ\\PJ\\build\\release\\4.20\\producao\\pjDev\\src\\pj\\Cliente\\uspjConfirmacaoPadrao.pas\n",
      "===================================================================\n",
      "150,151c150\n",
      "<   // 26/12/2017 - Wilian.Ivo - Salt: 262749/1\n",
      "<   if not (nErroLogin in [nLoginOK, nLoginSenhaPrestesAExpirar]) then\n",
      "---\n",
      ">   if nErroLogin > 0 then\n",
      "===================================================================\n",
      "\n"
     ]
    }
   ],
   "source": [
    "#File: D:\\UNJ\\fPJ\\PJ\\build\\release\\4.20\\producao\\pjDev\\src\\pj\\Cliente\\uspjConfirmacaoPadrao.pas\n",
    "#===================================================================\n",
    "#150,151c150\n",
    "#<   // 26/12/2017 - Wilian.Ivo - Salt: 262749/1\n",
    "#<   if not (nErroLogin in [nLoginOK, nLoginSenhaPrestesAExpirar]) then\n",
    "#---\n",
    "#>   if nErroLogin > 0 then\n",
    "#===================================================================\n",
    "\n",
    "def diff(row):\n",
    "    comando = TFS + ' difference ' + row['Filename'] + ' /format:unix /noprompt '\n",
    "    comando += '/version:' + 'C' + str(row['Changeset']) + '~' + 'C' + str(int(str(row['Changeset']).replace('C', '')) - 1) + ' /ignorespace'\n",
    "    print (comando)\n",
    "    pipe = os.popen(comando)\n",
    "    retorno = pipe.read()\n",
    "    pipe.close()\n",
    "    #print (a)\n",
    "    \n",
    "    return retorno\n",
    "\n",
    "teste = {'Filename':'$/fPJ/PJ/build/release/4.20/producao/pjDev/src/pj/Cliente/uspjConfirmacaoPadrao.pas', 'Changeset':'555472'}\n",
    "print (diff(teste))\n"
   ]
  },
  {
   "cell_type": "code",
   "execution_count": 2,
   "metadata": {},
   "outputs": [
    {
     "name": "stdout",
     "output_type": "stream",
     "text": [
      "File: D:\\UNJ\\fPJ\\PJ\\build\\release\\4.20\\producao\\pjDev\\src\\pj\\Servidor\\uspjSelectFluxoObjetoBasico.pas\n",
      "===================================================================\n",
      "544a545\n",
      ">     wflSelectPrincipal.AddColuna('p.flLitispendencia as cc_flLitispendencia');\n",
      "546d546\n",
      "<     //13/12/2017 - Wilian.Ivo - Salt: 255004/2\n",
      "548,559c548,552\n",
      "<       FSQL.Decode(FSQL.Value('pSup.flLitispendencia', 'p.flLitispendencia'),\n",
      "<       [QuotedStr(cLitisPendente), QuotedStr(sLITIS_PENDENTE), QuotedStr(cLitisSuspeita),\n",
      "<       QuotedStr(sLITIS_SUSPEITA), QuotedStr(cLitisConfirmada), QuotedStr(sLITIS_CONFIRMADA),\n",
      "<       QuotedStr(cLitisConexao), QuotedStr(sLITIS_CONEXAO), QuotedStr(cLitisDescartada),\n",
      "<       QuotedStr(sLITIS_DESCARTADA), QuotedStr(sLITIS_INEXISTENTE)]) + ' as cc_deLitispendencia');\n",
      "< \n",
      "<     //26/12/2017 - Wilian.Ivo - Salt: 255004/2\n",
      "<     if (oParametrosConsultaObjetoFila.TestarCampoNaProjecao('cc_deLitispendencia')) then\n",
      "<       wflSelectPrincipal.AddColuna(FSQL.Value('pSup.flLitispendencia', 'p.flLitispendencia') +\n",
      "<         ' as cc_flLitispendencia')\n",
      "<     else\n",
      "<       wflSelectPrincipal.AddColuna('p.flLitispendencia as cc_flLitispendencia');\n",
      "---\n",
      ">       FSQL.Decode('p.flLitispendencia', [QuotedStr(cLitisPendente), QuotedStr(sLITIS_PENDENTE),\n",
      ">       QuotedStr(cLitisSuspeita), QuotedStr(sLITIS_SUSPEITA), QuotedStr(cLitisConfirmada),\n",
      ">       QuotedStr(sLITIS_CONFIRMADA), QuotedStr(cLitisConexao), QuotedStr(sLITIS_CONEXAO),\n",
      ">       QuotedStr(cLitisDescartada), QuotedStr(sLITIS_DESCARTADA), QuotedStr(sLITIS_INEXISTENTE)]) +\n",
      ">       ' as cc_deLitispendencia');\n",
      "960,963d952\n",
      "< \n",
      "<     //13/12/2017 - Wilian.Ivo - Salt: 255004/2\n",
      "<     AdicionarJuncaoSomenteSeEstiverNaProjecao('cc_deLitispendencia', 'p', 'pSup',\n",
      "<       'p.cdProcessoSup = pSup.cdProcesso', True);\n",
      "1202,1204d1190\n",
      "<     //13/12/2017 - Wilian.Ivo - Salt: 255004/2\n",
      "<     AdicionarSomenteSeEstiverNaProjecao('cc_deLitispendencia',\n",
      "<       GetTabelaDB('espjProcesso pSup'), tbsTabela);\n",
      "===================================================================\n",
      "\n"
     ]
    }
   ],
   "source": [
    "pipe = os.popen('\"D:\\\\TFS\\\\Microsoft Visual Studio 10.0\\\\Common7\\\\IDE\\\\tf.exe\" difference $/fPJ/PJ/build/release/4.20/producao/pjDev/src/pj/Servidor/uspjSelectFluxoObjetoBasico.pas /format:unix /noprompt /version:C553471~C553470 /ignorespace')\n",
    "a = pipe.read()\n",
    "pipe.close()\n",
    "print (a)\n"
   ]
  },
  {
   "cell_type": "code",
   "execution_count": 109,
   "metadata": {
    "scrolled": true
   },
   "outputs": [
    {
     "data": {
      "text/plain": [
       "'D:\\\\UNJ\\\\fPJ\\\\PJ\\\\build\\\\release\\\\4.20\\\\producao\\\\pjDev\\\\src\\\\pj\\\\Servidor\\\\uspjSelectFluxoObjetoBasico.pas'"
      ]
     },
     "execution_count": 109,
     "metadata": {},
     "output_type": "execute_result"
    }
   ],
   "source": [
    "#D:\\UNJ\\fPJ\\PJ\\build\\release\\4.20\\producao\\pjDev\\src\\pj\\Servidor:\n",
    "#Replacing uspjSelectFluxoObjetoBasico.pas\n",
    "\n",
    "def get(row):\n",
    "    #pipe = os.popen('\"D:\\\\TFS\\\\Microsoft Visual Studio 10.0\\\\Common7\\\\IDE\\\\tf.exe\" get $/fPJ/PJ/build/release/4.20/producao/pjDev/src/pj/Servidor/uspjSelectFluxoObjetoBasico.pas /version:C553471 /force /noprompt')\n",
    "    comando = TFS + ' get ' + row['Filename'] + ' /version:'\n",
    "    comando += row['Changeset'] + ' /force /noprompt'\n",
    "    pipe = os.popen(comando)\n",
    "    retorno = pipe.read()\n",
    "    pipe.close()\n",
    "    #print (retorno)\n",
    "    linhas = retorno.splitlines()\n",
    "    caminho = linhas[0][:len(linhas[0])-1]\n",
    "    #caminho = caminho.replace('\\\\', '\\\\\\\\')\n",
    "    arquivo = linhas[1].replace('Replacing ', '')\n",
    "    return caminho + '\\\\' + arquivo\n",
    "\n",
    "teste = {'Filename':'$/fPJ/PJ/build/release/4.20/producao/pjDev/src/pj/Servidor/uspjSelectFluxoObjetoBasico.pas', 'Changeset':'C553471'}\n",
    "get(teste)"
   ]
  },
  {
   "cell_type": "code",
   "execution_count": 149,
   "metadata": {},
   "outputs": [],
   "source": [
    "def line(diff):\n",
    "    for linha in inputString.splitlines():\n",
    "        print (linha)\n",
    "    return [545, 600]"
   ]
  },
  {
   "cell_type": "code",
   "execution_count": 123,
   "metadata": {},
   "outputs": [
    {
     "data": {
      "text/plain": [
       "'procedure TspjSelectFluxoObjetoBasico.AdicionarCondicoes;\\n'"
      ]
     },
     "execution_count": 123,
     "metadata": {},
     "output_type": "execute_result"
    }
   ],
   "source": [
    "def metodo(arquivo, linha):\n",
    "    #f = open('D:\\\\UNJ\\\\fPJ\\\\PJ\\\\build\\\\release\\\\4.20\\\\producao\\\\pjDev\\\\src\\\\pj\\\\Servidor\\\\uspjSelectFluxoObjetoBasico.pas')\n",
    "    f = open(arquivo)\n",
    "    lines = f.readlines()\n",
    "    while (linha > 0):\n",
    "        if re.match('function.*\\..*\\;', lines[linha]) or re.match('procedure.*\\..*\\;', lines[linha]): \n",
    "            metodo = lines[linha]\n",
    "            break\n",
    "        linha -= 1\n",
    "    else:\n",
    "        metodo = 'ZYNX'\n",
    "    return metodo\n",
    "\n",
    "metodo('D:\\\\UNJ\\\\fPJ\\\\PJ\\\\build\\\\release\\\\4.20\\\\producao\\\\pjDev\\\\src\\\\pj\\\\Servidor\\\\uspjSelectFluxoObjetoBasico.pas', 800)"
   ]
  }
 ],
 "metadata": {
  "kernelspec": {
   "display_name": "Python 3",
   "language": "python",
   "name": "python3"
  },
  "language_info": {
   "codemirror_mode": {
    "name": "ipython",
    "version": 3
   },
   "file_extension": ".py",
   "mimetype": "text/x-python",
   "name": "python",
   "nbconvert_exporter": "python",
   "pygments_lexer": "ipython3",
   "version": "3.6.1"
  }
 },
 "nbformat": 4,
 "nbformat_minor": 2
}
