{
 "cells": [
  {
   "cell_type": "code",
   "execution_count": 1,
   "metadata": {},
   "outputs": [
    {
     "name": "stdout",
     "output_type": "stream",
     "text": [
      "File: D:\\UNJ\\fPJ\\PJ\\build\\release\\4.20\\producao\\pjDev\\src\\pj\\Cliente\\uspjConfirmacaoPadrao.pas\n",
      "===================================================================\n",
      "150,151c150\n",
      "<   // 26/12/2017 - Wilian.Ivo - Salt: 262749/1\n",
      "<   if not (nErroLogin in [nLoginOK, nLoginSenhaPrestesAExpirar]) then\n",
      "---\n",
      ">   if nErroLogin > 0 then\n",
      "===================================================================\n",
      "\n"
     ]
    }
   ],
   "source": [
    "import os\n",
    "pipe = os.popen('\"D:\\\\TFS\\\\Microsoft Visual Studio 10.0\\\\Common7\\\\IDE\\\\tf.exe\" difference $/fPJ/PJ/build/release/4.20/producao/pjDev/src/pj/Cliente/uspjConfirmacaoPadrao.pas  /format:unix /noprompt /version:C555472~C555471 /ignorespace')\n",
    "a = pipe.read()\n",
    "pipe.close()\n",
    "print (a)\n"
   ]
  },
  {
   "cell_type": "code",
   "execution_count": 2,
   "metadata": {},
   "outputs": [
    {
     "name": "stdout",
     "output_type": "stream",
     "text": [
      "File: D:\\UNJ\\fPJ\\PJ\\build\\release\\4.20\\producao\\pjDev\\src\\pj\\Servidor\\uspjSelectFluxoObjetoBasico.pas\n",
      "===================================================================\n",
      "544a545\n",
      ">     wflSelectPrincipal.AddColuna('p.flLitispendencia as cc_flLitispendencia');\n",
      "546d546\n",
      "<     //13/12/2017 - Wilian.Ivo - Salt: 255004/2\n",
      "548,559c548,552\n",
      "<       FSQL.Decode(FSQL.Value('pSup.flLitispendencia', 'p.flLitispendencia'),\n",
      "<       [QuotedStr(cLitisPendente), QuotedStr(sLITIS_PENDENTE), QuotedStr(cLitisSuspeita),\n",
      "<       QuotedStr(sLITIS_SUSPEITA), QuotedStr(cLitisConfirmada), QuotedStr(sLITIS_CONFIRMADA),\n",
      "<       QuotedStr(cLitisConexao), QuotedStr(sLITIS_CONEXAO), QuotedStr(cLitisDescartada),\n",
      "<       QuotedStr(sLITIS_DESCARTADA), QuotedStr(sLITIS_INEXISTENTE)]) + ' as cc_deLitispendencia');\n",
      "< \n",
      "<     //26/12/2017 - Wilian.Ivo - Salt: 255004/2\n",
      "<     if (oParametrosConsultaObjetoFila.TestarCampoNaProjecao('cc_deLitispendencia')) then\n",
      "<       wflSelectPrincipal.AddColuna(FSQL.Value('pSup.flLitispendencia', 'p.flLitispendencia') +\n",
      "<         ' as cc_flLitispendencia')\n",
      "<     else\n",
      "<       wflSelectPrincipal.AddColuna('p.flLitispendencia as cc_flLitispendencia');\n",
      "---\n",
      ">       FSQL.Decode('p.flLitispendencia', [QuotedStr(cLitisPendente), QuotedStr(sLITIS_PENDENTE),\n",
      ">       QuotedStr(cLitisSuspeita), QuotedStr(sLITIS_SUSPEITA), QuotedStr(cLitisConfirmada),\n",
      ">       QuotedStr(sLITIS_CONFIRMADA), QuotedStr(cLitisConexao), QuotedStr(sLITIS_CONEXAO),\n",
      ">       QuotedStr(cLitisDescartada), QuotedStr(sLITIS_DESCARTADA), QuotedStr(sLITIS_INEXISTENTE)]) +\n",
      ">       ' as cc_deLitispendencia');\n",
      "960,963d952\n",
      "< \n",
      "<     //13/12/2017 - Wilian.Ivo - Salt: 255004/2\n",
      "<     AdicionarJuncaoSomenteSeEstiverNaProjecao('cc_deLitispendencia', 'p', 'pSup',\n",
      "<       'p.cdProcessoSup = pSup.cdProcesso', True);\n",
      "1202,1204d1190\n",
      "<     //13/12/2017 - Wilian.Ivo - Salt: 255004/2\n",
      "<     AdicionarSomenteSeEstiverNaProjecao('cc_deLitispendencia',\n",
      "<       GetTabelaDB('espjProcesso pSup'), tbsTabela);\n",
      "===================================================================\n",
      "\n"
     ]
    }
   ],
   "source": [
    "import os\n",
    "pipe = os.popen('\"D:\\\\TFS\\\\Microsoft Visual Studio 10.0\\\\Common7\\\\IDE\\\\tf.exe\" difference $/fPJ/PJ/build/release/4.20/producao/pjDev/src/pj/Servidor/uspjSelectFluxoObjetoBasico.pas /format:unix /noprompt /version:C553471~C553470 /ignorespace')\n",
    "a = pipe.read()\n",
    "pipe.close()\n",
    "print (a)\n"
   ]
  },
  {
   "cell_type": "code",
   "execution_count": 3,
   "metadata": {
    "scrolled": true
   },
   "outputs": [
    {
     "name": "stdout",
     "output_type": "stream",
     "text": [
      "D:\\UNJ\\fPJ\\PJ\\build\\release\\4.20\\producao\\pjDev\\src\\pj\\Servidor:\n",
      "Replacing uspjSelectFluxoObjetoBasico.pas\n",
      "\n"
     ]
    }
   ],
   "source": [
    "import os\n",
    "pipe = os.popen('\"D:\\\\TFS\\\\Microsoft Visual Studio 10.0\\\\Common7\\\\IDE\\\\tf.exe\" get $/fPJ/PJ/build/release/4.20/producao/pjDev/src/pj/Servidor/uspjSelectFluxoObjetoBasico.pas /version:C553471 /force /noprompt')\n",
    "a = pipe.read()\n",
    "pipe.close()\n",
    "print (a)\n"
   ]
  },
  {
   "cell_type": "code",
   "execution_count": 4,
   "metadata": {},
   "outputs": [
    {
     "ename": "SyntaxError",
     "evalue": "invalid syntax (<ipython-input-4-e3ca0668a85a>, line 9)",
     "output_type": "error",
     "traceback": [
      "\u001b[1;36m  File \u001b[1;32m\"<ipython-input-4-e3ca0668a85a>\"\u001b[1;36m, line \u001b[1;32m9\u001b[0m\n\u001b[1;33m    linha--\u001b[0m\n\u001b[1;37m           ^\u001b[0m\n\u001b[1;31mSyntaxError\u001b[0m\u001b[1;31m:\u001b[0m invalid syntax\n"
     ]
    }
   ],
   "source": [
    "f=open('D:\\\\UNJ\\\\fPJ\\\\PJ\\\\build\\\\release\\\\4.20\\\\producao\\\\pjDev\\\\src\\\\pj\\\\Servidor\\\\uspjSelectFluxoObjetoBasico.pas')\n",
    "lines=f.readlines()\n",
    "\n",
    "linha = 545\n",
    "#lines[545]\n",
    "#print (lines[544])\n",
    "while(linha > 0):#<1>\n",
    "    print (lines[linha])#<2>\n",
    "    linha -= 1\n",
    "#else:\n",
    "    "
   ]
  },
  {
   "cell_type": "code",
   "execution_count": 19,
   "metadata": {},
   "outputs": [
    {
     "name": "stdout",
     "output_type": "stream",
     "text": [
      "Yes 2\n",
      "Yes 6\n",
      "Yes 7\n"
     ]
    }
   ],
   "source": [
    "import re\n",
    " \n",
    "if re.match('function.*\\..*\\;', 'function TspjSelectFluxoObjetoBasico.TestarEhAcompanhamentoConjunto: boolean;') or re.match('procedure.*\\..*\\;', 'procedure AdicionarColunas;'): \n",
    "    print('Yes 7')"
   ]
  }
 ],
 "metadata": {
  "kernelspec": {
   "display_name": "Python 3",
   "language": "python",
   "name": "python3"
  },
  "language_info": {
   "codemirror_mode": {
    "name": "ipython",
    "version": 3
   },
   "file_extension": ".py",
   "mimetype": "text/x-python",
   "name": "python",
   "nbconvert_exporter": "python",
   "pygments_lexer": "ipython3",
   "version": "3.6.1"
  }
 },
 "nbformat": 4,
 "nbformat_minor": 2
}
