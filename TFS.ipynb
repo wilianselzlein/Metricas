{
 "cells": [
  {
   "cell_type": "markdown",
   "metadata": {},
   "source": [
    "### Montar planilha dados exportados TFS"
   ]
  },
  {
   "cell_type": "code",
   "execution_count": 178,
   "metadata": {
    "collapsed": true
   },
   "outputs": [],
   "source": [
    "file = open(\"release_changeset_2013-2015.txt\", encoding ='ISO-8859-1')\n",
    "\n",
    "MES = {'janeiro': 1, 'fevereiro': 2, 'março': 3, 'abril': 4, 'maio': 5, 'junho': 6, \n",
    "       'julho': 7, 'agosto': 8, 'setembro': 9, 'outubro': 10, 'novembro': 11, 'dezembro': 12}\n",
    "\n",
    "Comment = False\n",
    "Items = False\n",
    "Notes = False\n",
    "Salt = False\n",
    "Files = []\n",
    "Lista = []\n",
    "for line in file:\n",
    "    branco = (line == '\\n')\n",
    "    if branco:\n",
    "        continue\n",
    "    \n",
    "    novoitem = (line[0] == '-')\n",
    "    \n",
    "    if novoitem:\n",
    "        if not Files == []:\n",
    "            for FileName in Files:\n",
    "                #print (FileName)\n",
    "                File = FileName.split('/')\n",
    "                #print (File)\n",
    "                #print (File[-1])\n",
    "                Lista.append([Atendimento, Changeset, User, Date, Comentario, File[-1], FileName]) #Reviewer\n",
    "        #print (Files)\n",
    "        Items = False\n",
    "        Files = []\n",
    "        Comentario = ''\n",
    "        continue\n",
    "    \n",
    "    item = line.replace('\\n', '').replace('\\r', '').replace(';','').split(':');\n",
    "\n",
    "    if item[0] == 'Changeset':\n",
    "        Changeset = item[1].strip()\n",
    "        #print (Changeset)\n",
    "\n",
    "    if item[0] == 'User':\n",
    "        User = item[1].strip()\n",
    "        #print (User)\n",
    "\n",
    "    if item[0] == 'Date':\n",
    "        Date = item[1].strip().split(' ')\n",
    "        Date = Date[1] + '/' + str(MES[Date[3]]) + '/' + Date[5];\n",
    "        #print (Date)\n",
    "\n",
    "    if Comment:\n",
    "        #Comentario = line.strip()\n",
    "        #print (Comentario)\n",
    "        \n",
    "        Notes = (item[0] == 'Items')\n",
    "        #print (Notes)\n",
    "        #print (novoitem)\n",
    "        if not (Notes):\n",
    "            #print (Item)\n",
    "            Comentario = Comentario + line.strip() + ' '\n",
    "            continue\n",
    "    Comment = (item[0] == 'Comment')\n",
    "    \n",
    "    if Items:\n",
    "        Item = line\n",
    "        Notes = (item[0] == 'Check-in Notes')\n",
    "        #print (novoitem)\n",
    "        if not (Notes):\n",
    "            #print (Item)\n",
    "            arq = Item.strip().split('$');\n",
    "            #print (arq)\n",
    "            Files.append(arq[1])\n",
    "            continue\n",
    "    Items = (item[0] == 'Items')\n",
    "\n",
    "#    if item[0].strip() == 'Code Reviewer':\n",
    "#        Reviewer = item[1].strip()\n",
    "        #print (Reviewer)\n",
    "\n",
    "    if Salt:\n",
    "        Atendimento = line.strip()\n",
    "        Atendimento = Atendimento[:20]\n",
    "        #print (Atendimento)\n",
    "    Salt = (item[0].strip() == 'SALT')\n",
    "\n",
    "file.close()\n"
   ]
  },
  {
   "cell_type": "code",
   "execution_count": 179,
   "metadata": {},
   "outputs": [
    {
     "name": "stdout",
     "output_type": "stream",
     "text": [
      "['197654/6', '418400', 'romulo', '30/12/2015', 'SALT 197654/6 - Corrigir erro no resultado da pesquisa de litispendência que não estava apresentando o assunto para processos dependentes e para o último registro. ', 'uspjProcassuntoServ.pas', '/fPJ/PJ/build/release/4.0.14/servicepack/pjDev/src/pj/Servidor/uspjProcassuntoServ.pas']\n",
      "['197654/6', '418400', 'romulo', '30/12/2015', 'SALT 197654/6 - Corrigir erro no resultado da pesquisa de litispendência que não estava apresentando o assunto para processos dependentes e para o último registro. ', 'uspjRespesqlitispServ.pas', '/fPJ/PJ/build/release/4.0.14/servicepack/pjDev/src/pj/Servidor/uspjRespesqlitispServ.pas']\n",
      "['197654/6', '418399', 'romulo', '30/12/2015', 'SALT 197654/6 - Corrigir erro no resultado da pesquisa de litispendência que não estava apresentando o assunto para processos dependentes e para o último registro. ', 'uspjProcassuntoServ.pas', '/fPJ/PJ/build/release/4.0.14/SP/pjDev/src/pj/Servidor/uspjProcassuntoServ.pas']\n",
      "['197654/6', '418399', 'romulo', '30/12/2015', 'SALT 197654/6 - Corrigir erro no resultado da pesquisa de litispendência que não estava apresentando o assunto para processos dependentes e para o último registro. ', 'uspjRespesqlitispServ.pas', '/fPJ/PJ/build/release/4.0.14/SP/pjDev/src/pj/Servidor/uspjRespesqlitispServ.pas']\n",
      "['200526/6', '418391', 'darlley.silva', '30/12/2015', 'SALT 200526/6 ', 'uspjPedredistpendServ.pas', '/fPJ/PJ/build/release/4.0.12/MT/pjDev/src/pj/Servidor/uspjPedredistpendServ.pas']\n",
      "['201614/1', '418390', 'roni.beltramin', '30/12/2015', 'SALT 201614/1 - Não obriga informar o período de inscrição se for informado o nro do processo ', 'uspjConsCDA.pas', '/fPJ/PJ/build/release/4.0.15/servicepack/pjDev/src/pj/Cliente/uspjConsCDA.pas']\n",
      "['201614/1', '418387', 'roni.beltramin', '30/12/2015', 'SALT 201614/1 - Não obriga informar o período de inscrição se for informado o nro do processo ', 'uspjConsCDA.pas', '/fPJ/PJ/build/release/4.0.14/servicepack/pjDev/src/pj/Cliente/uspjConsCDA.pas']\n"
     ]
    }
   ],
   "source": [
    "print (Lista[0])\n",
    "print (Lista[1])\n",
    "print (Lista[2])\n",
    "print (Lista[3])\n",
    "print (Lista[4])\n",
    "print (Lista[5])\n",
    "print (Lista[6])\n"
   ]
  },
  {
   "cell_type": "code",
   "execution_count": 180,
   "metadata": {
    "collapsed": true
   },
   "outputs": [],
   "source": [
    "import csv\n",
    "import pandas as pd\n",
    "\n",
    "df = pd.DataFrame(Lista)\n",
    "df.to_csv('release_changeset_2013-2015.csv', index=False, header=False, encoding ='ISO-8859-1', sep=';')\n",
    "    \n",
    "#out = csv.writer(open(\"release_changeset_2017.csv\",\"w\"), delimiter=';',quoting=csv.QUOTE_NONE)\n",
    "#out.writerows(Lista)"
   ]
  }
 ],
 "metadata": {
  "kernelspec": {
   "display_name": "Python 3",
   "language": "python",
   "name": "python3"
  },
  "language_info": {
   "codemirror_mode": {
    "name": "ipython",
    "version": 3
   },
   "file_extension": ".py",
   "mimetype": "text/x-python",
   "name": "python",
   "nbconvert_exporter": "python",
   "pygments_lexer": "ipython3",
   "version": "3.6.2"
  }
 },
 "nbformat": 4,
 "nbformat_minor": 2
}
