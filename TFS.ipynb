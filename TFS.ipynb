{
 "cells": [
  {
   "cell_type": "markdown",
   "metadata": {},
   "source": [
    "### Montar planilha dados exportados TFS"
   ]
  },
  {
   "cell_type": "code",
   "execution_count": 14,
   "metadata": {},
   "outputs": [
    {
     "name": "stdout",
     "output_type": "stream",
     "text": [
      "['Policy Warnings:']\n",
      "['Override Reason:']\n",
      "['checkin']\n",
      "['Messages:']\n",
      "['Internal error in UNJ Comment Checkin Policy. Object reference not set to an instance of an object.']\n"
     ]
    }
   ],
   "source": [
    "file = open(\"C:\\\\temp\\\\main_changeset.txt\", encoding ='ISO-8859-1')\n",
    "\n",
    "MES = {'janeiro': 1, 'fevereiro': 2, 'março': 3, 'abril': 4, 'maio': 5, 'junho': 6, \n",
    "       'julho': 7, 'agosto': 8, 'setembro': 9, 'outubro': 10, 'novembro': 11, 'dezembro': 12}\n",
    "\n",
    "Comment = False\n",
    "Items = False\n",
    "Notes = False\n",
    "Salt = False\n",
    "Files = []\n",
    "Lista = []\n",
    "for line in file:\n",
    "    branco = (line == '\\n')\n",
    "    if branco:\n",
    "        continue\n",
    "    \n",
    "    novoitem = (line[0] == '-')\n",
    "    \n",
    "    if novoitem:\n",
    "        if not Files == []:\n",
    "            for FileName in Files:\n",
    "                #print (FileName)\n",
    "                File = FileName.split('/')\n",
    "                #print (File)\n",
    "                #print (File[-1])\n",
    "                Lista.append([Atendimento, Changeset, User, Date, Comentario, File[-1], FileName]) #Reviewer\n",
    "        #print (Files)\n",
    "        Items = False\n",
    "        Files = []\n",
    "        Comentario = ''\n",
    "        continue\n",
    "    \n",
    "    item = line.replace('\\n', '').replace('\\r', '').replace(';','').split(':');\n",
    "\n",
    "    if item[0] == 'Changeset':\n",
    "        Changeset = item[1].strip()\n",
    "        #print (Changeset)\n",
    "\n",
    "    if item[0] == 'User':\n",
    "        User = item[1].strip()\n",
    "        #print (User)\n",
    "\n",
    "    if item[0] == 'Date':\n",
    "        Date = item[1].strip().split(' ')\n",
    "        Date = Date[1] + '/' + str(MES[Date[3]]) + '/' + Date[5];\n",
    "        #print (Date)\n",
    "\n",
    "    if Comment:\n",
    "        #Comentario = line.strip()\n",
    "        #print (Comentario)\n",
    "        \n",
    "        Notes = (item[0] == 'Items')\n",
    "        #print (Notes)\n",
    "        #print (novoitem)\n",
    "        if not (Notes):\n",
    "            #print (Item)\n",
    "            Comentario = Comentario + line.strip() + ' '\n",
    "            continue\n",
    "    Comment = (item[0] == 'Comment')\n",
    "    \n",
    "    if Items:\n",
    "        Item = line\n",
    "        Notes = (item[0] == 'Check-in Notes')\n",
    "        #print (novoitem)\n",
    "        if not (Notes):\n",
    "            #print (Item)\n",
    "            arq = Item.strip().split('$');\n",
    "            if len(arq) == 1:\n",
    "                print (arq)\n",
    "            else:\n",
    "                Files.append(arq[1])\n",
    "            continue\n",
    "    Items = (item[0] == 'Items')\n",
    "\n",
    "#    if item[0].strip() == 'Code Reviewer':\n",
    "#        Reviewer = item[1].strip()\n",
    "        #print (Reviewer)\n",
    "\n",
    "    if Salt:\n",
    "        Atendimento = line.strip()\n",
    "        Atendimento = Atendimento[:20]\n",
    "        #print (Atendimento)\n",
    "    Salt = (item[0].strip() == 'SALT')\n",
    "\n",
    "file.close()\n"
   ]
  },
  {
   "cell_type": "code",
   "execution_count": 15,
   "metadata": {},
   "outputs": [
    {
     "name": "stdout",
     "output_type": "stream",
     "text": [
      "['263572/1', '554269', 'anderson.albuquerque', '29/12/2017', 'SALT 263572/1 - Correção para que o Sistema ignore feriados de recesso (S) para processos administrativos. ', 'uspjCalculoPrazo.pas', '/fPJ/PJ/build/main/pjDev/src/pj/Componentes/spjComponentes/uspjCalculoPrazo.pas']\n",
      "['263572/1', '554269', 'anderson.albuquerque', '29/12/2017', 'SALT 263572/1 - Correção para que o Sistema ignore feriados de recesso (S) para processos administrativos. ', 'uspjParametroCalculoPrazo.pas', '/fPJ/PJ/build/main/pjDev/src/pj/Componentes/spjComponentes/uspjParametroCalculoPrazo.pas']\n",
      "['263572/1', '554269', 'anderson.albuquerque', '29/12/2017', 'SALT 263572/1 - Correção para que o Sistema ignore feriados de recesso (S) para processos administrativos. ', 'uspjPendenciaPrazo.pas', '/fPJ/PJ/build/main/pjDev/src/pj/Componentes/spjDados/uspjPendenciaPrazo.pas']\n",
      "['0/0', '554260', 'rafael.wagner', '29/12/2017', 'Ajuste script pois o mesmo não estava preparado para tratar uma lista de cdWebServices vindos dos parametros ', 'PJ011443.DH4', '/fPJ/PJ/build/main/pjDev/dbscript/PJ/oracle/PJ011443.DH4']\n",
      "['0/0', '554260', 'rafael.wagner', '29/12/2017', 'Ajuste script pois o mesmo não estava preparado para tratar uma lista de cdWebServices vindos dos parametros ', 'PJ011443.DH4', '/fPJ/PJ/build/main/pjDev/dbscript/PJ/sqlserver/PJ011443.DH4']\n",
      "['261519/1', '554254', 'anderson.albuquerque', '29/12/2017', 'SALT 261519/1 - Alterado sistema para permitir ao usuário alterar o tamanho do formulário \"Consulta de Informações Adicionais Controladas\". ', 'uspjConsInfAdicControladaComCadastro.pas', '/fPJ/PJ/build/main/pjDev/src/pj/Cliente/uspjConsInfAdicControladaComCadastro.pas']\n",
      "['247275/1', '554251', 'emerson.db1', '29/12/2017', 'SALT 247275/1 - Ajuste no merge ', 'spjclienteapp.dpr', '/fPJ/PJ/build/main/pjDev/src/pj/Cliente/spjclienteapp.dpr']\n"
     ]
    }
   ],
   "source": [
    "print (Lista[0])\n",
    "print (Lista[1])\n",
    "print (Lista[2])\n",
    "print (Lista[3])\n",
    "print (Lista[4])\n",
    "print (Lista[5])\n",
    "print (Lista[6])\n"
   ]
  },
  {
   "cell_type": "code",
   "execution_count": 16,
   "metadata": {
    "collapsed": true
   },
   "outputs": [],
   "source": [
    "import csv\n",
    "import pandas as pd\n",
    "\n",
    "df = pd.DataFrame(Lista)\n",
    "df.to_csv('C:\\\\temp\\\\main_changeset.csv', index=False, header=False, encoding ='ISO-8859-1', sep=';')\n",
    "    \n",
    "#out = csv.writer(open(\"release_changeset_2017.csv\",\"w\"), delimiter=';',quoting=csv.QUOTE_NONE)\n",
    "#out.writerows(Lista)"
   ]
  }
 ],
 "metadata": {
  "kernelspec": {
   "display_name": "Python 3",
   "language": "python",
   "name": "python3"
  },
  "language_info": {
   "codemirror_mode": {
    "name": "ipython",
    "version": 3
   },
   "file_extension": ".py",
   "mimetype": "text/x-python",
   "name": "python",
   "nbconvert_exporter": "python",
   "pygments_lexer": "ipython3",
   "version": "3.6.1"
  }
 },
 "nbformat": 4,
 "nbformat_minor": 2
}
